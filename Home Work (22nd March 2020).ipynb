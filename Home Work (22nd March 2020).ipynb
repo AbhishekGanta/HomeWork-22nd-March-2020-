{
 "cells": [
  {
   "cell_type": "markdown",
   "metadata": {},
   "source": [
    "Accessing method using multiple ineritance."
   ]
  },
  {
   "cell_type": "code",
   "execution_count": 1,
   "metadata": {},
   "outputs": [
    {
     "name": "stdout",
     "output_type": "stream",
     "text": [
      "Class A\n",
      "Class C\n",
      "Test from Class A\n",
      "Test from Class B\n"
     ]
    }
   ],
   "source": [
    "class A:\n",
    "    def __init__(self):\n",
    "        print(\"Class A\")\n",
    "    def test(self):\n",
    "        print(\"Test from Class A\")\n",
    "class B:\n",
    "    def __init__(self):\n",
    "        print(\"Class B\")\n",
    "    def test(self):\n",
    "        print(\"Test from Class B\")\n",
    "class C(A,B):\n",
    "    def __init__(self):\n",
    "        super().__init__()\n",
    "        print(\"Class C\")\n",
    "        A.test(self)\n",
    "        B.test(self)\n",
    "\n",
    "\n",
    "\n",
    "C1=C()"
   ]
  },
  {
   "cell_type": "code",
   "execution_count": null,
   "metadata": {},
   "outputs": [],
   "source": []
  }
 ],
 "metadata": {
  "kernelspec": {
   "display_name": "Python 3",
   "language": "python",
   "name": "python3"
  },
  "language_info": {
   "codemirror_mode": {
    "name": "ipython",
    "version": 3
   },
   "file_extension": ".py",
   "mimetype": "text/x-python",
   "name": "python",
   "nbconvert_exporter": "python",
   "pygments_lexer": "ipython3",
   "version": "3.7.4"
  }
 },
 "nbformat": 4,
 "nbformat_minor": 2
}
